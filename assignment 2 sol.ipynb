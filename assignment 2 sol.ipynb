{
  "nbformat": 4,
  "nbformat_minor": 0,
  "metadata": {
    "colab": {
      "provenance": []
    },
    "kernelspec": {
      "name": "python3",
      "display_name": "Python 3"
    },
    "language_info": {
      "name": "python"
    }
  },
  "cells": [
    {
      "cell_type": "code",
      "execution_count": 7,
      "metadata": {
        "id": "-SAa120RXb1-",
        "colab": {
          "base_uri": "https://localhost:8080/"
        },
        "outputId": "7585ddc2-0fa1-4d18-aa2e-2d37087782dd"
      },
      "outputs": [
        {
          "output_type": "stream",
          "name": "stdout",
          "text": [
            "Initial Capital: ₹1000\n",
            "Final Portfolio Value: ₹1526.41\n",
            "Sharpe Ratio: 0.95\n",
            "Max Drawdown: 10.11%\n",
            "Total Trades: 22\n",
            "Winning Trades: 20\n",
            "Losing Trades: 2\n"
          ]
        }
      ],
      "source": [
        "import yfinance as yf\n",
        "import pandas as pd\n",
        "import numpy as np\n",
        "ticker = yf.Ticker(\"AAPL\")\n",
        "df = ticker.history(start=\"2022-01-01\", end=\"2024-12-31\", interval=\"1d\")\n",
        "df = df.dropna()\n",
        "\n",
        "def bollinger_bands(df, window=20, num_std=2):\n",
        "    df['BB_MA'] = df['Close'].rolling(window).mean()\n",
        "    df['BB_STD'] = df['Close'].rolling(window).std()\n",
        "    df['upper'] = df['BB_MA'] + num_std * df['BB_STD']\n",
        "    df['lower'] = df['BB_MA'] - num_std * df['BB_STD']\n",
        "    return df\n",
        "\n",
        "def macd(df):\n",
        "    ema12 = df['Close'].ewm(span=12, adjust=False).mean()\n",
        "    ema26 = df['Close'].ewm(span=26, adjust=False).mean()\n",
        "    df['MACD'] = ema12 - ema26\n",
        "    df['MACD_Signal'] = df['MACD'].ewm(span=9, adjust=False).mean()\n",
        "    return df\n",
        "\n",
        "\n",
        "def compute_rsi(data, period=14):\n",
        "    delta = data['Close'].diff()\n",
        "    gain = delta.clip(lower=0)\n",
        "    loss = -delta.clip(upper=0)\n",
        "    avg_gain = gain.rolling(window=period).mean()\n",
        "    avg_loss = loss.rolling(window=period).mean()\n",
        "    rs = avg_gain / (avg_loss + 1e-10)\n",
        "    rsi = 100 - (100 / (1 + rs))\n",
        "    data['RSI'] = rsi\n",
        "    return data\n",
        "\n",
        "df = compute_rsi(df)\n",
        "df.dropna(inplace=True)\n",
        "initial_capital = 1000\n",
        "capital = initial_capital\n",
        "in_position = False\n",
        "entry_price = 0\n",
        "portfolio = []\n",
        "stop_loss = 0\n",
        "take_profit = 0\n",
        "trades = []\n",
        "drawdowns = []\n",
        "max_portfolio = initial_capital\n",
        "\n",
        "for i in range(len(df)):\n",
        "    rsi = df.iloc[i]['RSI']\n",
        "    close = df.iloc[i]['Close']\n",
        "    date = df.index[i]\n",
        "\n",
        "    if not in_position:\n",
        "        if rsi < 30:\n",
        "            in_position = True\n",
        "            entry_price = close\n",
        "            quantity = capital / close\n",
        "            stop_loss = close * 0.95\n",
        "            take_profit = close * 1.10\n",
        "            entry_date = date\n",
        "    else:\n",
        "        stop_loss = max(stop_loss, close * 0.95)\n",
        "        if close <= stop_loss or close >= take_profit or rsi > 70:\n",
        "            exit_price = close\n",
        "            capital = quantity * exit_price\n",
        "            trades.append({\n",
        "                'Entry Date': entry_date,\n",
        "                'Exit Date': date,\n",
        "                'Entry Price': entry_price,\n",
        "                'Exit Price': exit_price,\n",
        "                'Profit': capital - initial_capital\n",
        "            })\n",
        "            in_position = False\n",
        "            max_portfolio = max(max_portfolio, capital)\n",
        "            drawdown = (max_portfolio - capital) / max_portfolio\n",
        "            drawdowns.append(drawdown)\n",
        "    portfolio.append(capital)\n",
        "portfolio_series = pd.Series(portfolio, index=df.index[:len(portfolio)])\n",
        "returns = portfolio_series.pct_change().dropna()\n",
        "sharpe_ratio = (returns.mean() / returns.std()) * np.sqrt(252) if not returns.empty else 0\n",
        "max_drawdown = max(drawdowns) if drawdowns else 0\n",
        "total_trades = len(trades)\n",
        "winning_trades = sum(t['Profit'] > 0 for t in trades)\n",
        "losing_trades = total_trades - winning_trades\n",
        "final_value = portfolio[-1]\n",
        "print(\"Initial Capital: ₹1000\")\n",
        "print(f\"Final Portfolio Value: ₹{final_value:.2f}\")\n",
        "print(f\"Sharpe Ratio: {sharpe_ratio:.2f}\")\n",
        "print(f\"Max Drawdown: {max_drawdown:.2%}\")\n",
        "print(f\"Total Trades: {total_trades}\")\n",
        "print(f\"Winning Trades: {winning_trades}\")\n",
        "print(f\"Losing Trades: {losing_trades}\")\n",
        "\n"
      ]
    }
  ]
}